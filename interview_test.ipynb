{
  "nbformat": 4,
  "nbformat_minor": 0,
  "metadata": {
    "kernelspec": {
      "display_name": "Python 3",
      "language": "python",
      "name": "python3"
    },
    "language_info": {
      "codemirror_mode": {
        "name": "ipython",
        "version": 3
      },
      "file_extension": ".py",
      "mimetype": "text/x-python",
      "name": "python",
      "nbconvert_exporter": "python",
      "pygments_lexer": "ipython3",
      "version": "3.7.4"
    },
    "colab": {
      "name": "interview_test.ipynb",
      "provenance": [],
      "include_colab_link": true
    }
  },
  "cells": [
    {
      "cell_type": "markdown",
      "metadata": {
        "id": "view-in-github",
        "colab_type": "text"
      },
      "source": [
        "<a href=\"https://colab.research.google.com/github/FedericoBovi/JLabyrinth/blob/main/interview_test.ipynb\" target=\"_parent\"><img src=\"https://colab.research.google.com/assets/colab-badge.svg\" alt=\"Open In Colab\"/></a>"
      ]
    },
    {
      "cell_type": "markdown",
      "metadata": {
        "id": "-Sc5KJKXgsbS"
      },
      "source": [
        "In questo notebook vengono presentate le richieste ed i dati del problema.\n",
        "\n",
        "I dataset da analizzare sono 3:\n",
        "- (D1) alcune informazioni su aziende operative italiane con sede legale in una regione italiana e almeno 1 dipendente (di cui vengono omessi identificativi, in merito a dati economici viene indicato solo il range e, per altre informazioni, come il sito web, la mera presenza)\n",
        "- (D2) un elenco di finanziamenti pubblici di cui queste aziende hanno beneficiato\n",
        "- (D3) una classificazione parziale di tali finanziamenti\n",
        "\n",
        "I dataset (D3) non è completo: una parte è stata tenuta da parte come test set per misurare la bontà dei risultati."
      ]
    },
    {
      "cell_type": "markdown",
      "metadata": {
        "id": "PMB6E3qAgsbY"
      },
      "source": [
        "### PRESENTAZIONE DATASET"
      ]
    },
    {
      "cell_type": "code",
      "metadata": {
        "id": "EDrXpwM0gsba"
      },
      "source": [
        "import pandas as pd"
      ],
      "execution_count": 2,
      "outputs": []
    },
    {
      "cell_type": "code",
      "metadata": {
        "colab": {
          "base_uri": "https://localhost:8080/",
          "height": 435
        },
        "id": "iWiZW__9gsbd",
        "outputId": "b7876de2-b1d6-44e7-f791-901da646b3af"
      },
      "source": [
        "info_companies_df = pd.read_csv('aziende.csv')\n",
        "info_aiuti_df = pd.read_csv('aiuti_train.csv')\n",
        "categorie_aiuti_df = pd.read_csv('categorie_aiuti.csv')"
      ],
      "execution_count": 3,
      "outputs": [
        {
          "output_type": "error",
          "ename": "FileNotFoundError",
          "evalue": "ignored",
          "traceback": [
            "\u001b[0;31m---------------------------------------------------------------------------\u001b[0m",
            "\u001b[0;31mFileNotFoundError\u001b[0m                         Traceback (most recent call last)",
            "\u001b[0;32m<ipython-input-3-b687289825a1>\u001b[0m in \u001b[0;36m<module>\u001b[0;34m()\u001b[0m\n\u001b[0;32m----> 1\u001b[0;31m \u001b[0minfo_companies_df\u001b[0m \u001b[0;34m=\u001b[0m \u001b[0mpd\u001b[0m\u001b[0;34m.\u001b[0m\u001b[0mread_csv\u001b[0m\u001b[0;34m(\u001b[0m\u001b[0;34m'aziende.csv'\u001b[0m\u001b[0;34m)\u001b[0m\u001b[0;34m\u001b[0m\u001b[0;34m\u001b[0m\u001b[0m\n\u001b[0m\u001b[1;32m      2\u001b[0m \u001b[0minfo_aiuti_df\u001b[0m \u001b[0;34m=\u001b[0m \u001b[0mpd\u001b[0m\u001b[0;34m.\u001b[0m\u001b[0mread_csv\u001b[0m\u001b[0;34m(\u001b[0m\u001b[0;34m'aiuti_train.csv'\u001b[0m\u001b[0;34m)\u001b[0m\u001b[0;34m\u001b[0m\u001b[0;34m\u001b[0m\u001b[0m\n\u001b[1;32m      3\u001b[0m \u001b[0mcategorie_aiuti_df\u001b[0m \u001b[0;34m=\u001b[0m \u001b[0mpd\u001b[0m\u001b[0;34m.\u001b[0m\u001b[0mread_csv\u001b[0m\u001b[0;34m(\u001b[0m\u001b[0;34m'categorie_aiuti.csv'\u001b[0m\u001b[0;34m)\u001b[0m\u001b[0;34m\u001b[0m\u001b[0;34m\u001b[0m\u001b[0m\n",
            "\u001b[0;32m/usr/local/lib/python3.7/dist-packages/pandas/io/parsers.py\u001b[0m in \u001b[0;36mread_csv\u001b[0;34m(filepath_or_buffer, sep, delimiter, header, names, index_col, usecols, squeeze, prefix, mangle_dupe_cols, dtype, engine, converters, true_values, false_values, skipinitialspace, skiprows, skipfooter, nrows, na_values, keep_default_na, na_filter, verbose, skip_blank_lines, parse_dates, infer_datetime_format, keep_date_col, date_parser, dayfirst, cache_dates, iterator, chunksize, compression, thousands, decimal, lineterminator, quotechar, quoting, doublequote, escapechar, comment, encoding, dialect, error_bad_lines, warn_bad_lines, delim_whitespace, low_memory, memory_map, float_precision)\u001b[0m\n\u001b[1;32m    686\u001b[0m     )\n\u001b[1;32m    687\u001b[0m \u001b[0;34m\u001b[0m\u001b[0m\n\u001b[0;32m--> 688\u001b[0;31m     \u001b[0;32mreturn\u001b[0m \u001b[0m_read\u001b[0m\u001b[0;34m(\u001b[0m\u001b[0mfilepath_or_buffer\u001b[0m\u001b[0;34m,\u001b[0m \u001b[0mkwds\u001b[0m\u001b[0;34m)\u001b[0m\u001b[0;34m\u001b[0m\u001b[0;34m\u001b[0m\u001b[0m\n\u001b[0m\u001b[1;32m    689\u001b[0m \u001b[0;34m\u001b[0m\u001b[0m\n\u001b[1;32m    690\u001b[0m \u001b[0;34m\u001b[0m\u001b[0m\n",
            "\u001b[0;32m/usr/local/lib/python3.7/dist-packages/pandas/io/parsers.py\u001b[0m in \u001b[0;36m_read\u001b[0;34m(filepath_or_buffer, kwds)\u001b[0m\n\u001b[1;32m    452\u001b[0m \u001b[0;34m\u001b[0m\u001b[0m\n\u001b[1;32m    453\u001b[0m     \u001b[0;31m# Create the parser.\u001b[0m\u001b[0;34m\u001b[0m\u001b[0;34m\u001b[0m\u001b[0;34m\u001b[0m\u001b[0m\n\u001b[0;32m--> 454\u001b[0;31m     \u001b[0mparser\u001b[0m \u001b[0;34m=\u001b[0m \u001b[0mTextFileReader\u001b[0m\u001b[0;34m(\u001b[0m\u001b[0mfp_or_buf\u001b[0m\u001b[0;34m,\u001b[0m \u001b[0;34m**\u001b[0m\u001b[0mkwds\u001b[0m\u001b[0;34m)\u001b[0m\u001b[0;34m\u001b[0m\u001b[0;34m\u001b[0m\u001b[0m\n\u001b[0m\u001b[1;32m    455\u001b[0m \u001b[0;34m\u001b[0m\u001b[0m\n\u001b[1;32m    456\u001b[0m     \u001b[0;32mif\u001b[0m \u001b[0mchunksize\u001b[0m \u001b[0;32mor\u001b[0m \u001b[0miterator\u001b[0m\u001b[0;34m:\u001b[0m\u001b[0;34m\u001b[0m\u001b[0;34m\u001b[0m\u001b[0m\n",
            "\u001b[0;32m/usr/local/lib/python3.7/dist-packages/pandas/io/parsers.py\u001b[0m in \u001b[0;36m__init__\u001b[0;34m(self, f, engine, **kwds)\u001b[0m\n\u001b[1;32m    946\u001b[0m             \u001b[0mself\u001b[0m\u001b[0;34m.\u001b[0m\u001b[0moptions\u001b[0m\u001b[0;34m[\u001b[0m\u001b[0;34m\"has_index_names\"\u001b[0m\u001b[0;34m]\u001b[0m \u001b[0;34m=\u001b[0m \u001b[0mkwds\u001b[0m\u001b[0;34m[\u001b[0m\u001b[0;34m\"has_index_names\"\u001b[0m\u001b[0;34m]\u001b[0m\u001b[0;34m\u001b[0m\u001b[0;34m\u001b[0m\u001b[0m\n\u001b[1;32m    947\u001b[0m \u001b[0;34m\u001b[0m\u001b[0m\n\u001b[0;32m--> 948\u001b[0;31m         \u001b[0mself\u001b[0m\u001b[0;34m.\u001b[0m\u001b[0m_make_engine\u001b[0m\u001b[0;34m(\u001b[0m\u001b[0mself\u001b[0m\u001b[0;34m.\u001b[0m\u001b[0mengine\u001b[0m\u001b[0;34m)\u001b[0m\u001b[0;34m\u001b[0m\u001b[0;34m\u001b[0m\u001b[0m\n\u001b[0m\u001b[1;32m    949\u001b[0m \u001b[0;34m\u001b[0m\u001b[0m\n\u001b[1;32m    950\u001b[0m     \u001b[0;32mdef\u001b[0m \u001b[0mclose\u001b[0m\u001b[0;34m(\u001b[0m\u001b[0mself\u001b[0m\u001b[0;34m)\u001b[0m\u001b[0;34m:\u001b[0m\u001b[0;34m\u001b[0m\u001b[0;34m\u001b[0m\u001b[0m\n",
            "\u001b[0;32m/usr/local/lib/python3.7/dist-packages/pandas/io/parsers.py\u001b[0m in \u001b[0;36m_make_engine\u001b[0;34m(self, engine)\u001b[0m\n\u001b[1;32m   1178\u001b[0m     \u001b[0;32mdef\u001b[0m \u001b[0m_make_engine\u001b[0m\u001b[0;34m(\u001b[0m\u001b[0mself\u001b[0m\u001b[0;34m,\u001b[0m \u001b[0mengine\u001b[0m\u001b[0;34m=\u001b[0m\u001b[0;34m\"c\"\u001b[0m\u001b[0;34m)\u001b[0m\u001b[0;34m:\u001b[0m\u001b[0;34m\u001b[0m\u001b[0;34m\u001b[0m\u001b[0m\n\u001b[1;32m   1179\u001b[0m         \u001b[0;32mif\u001b[0m \u001b[0mengine\u001b[0m \u001b[0;34m==\u001b[0m \u001b[0;34m\"c\"\u001b[0m\u001b[0;34m:\u001b[0m\u001b[0;34m\u001b[0m\u001b[0;34m\u001b[0m\u001b[0m\n\u001b[0;32m-> 1180\u001b[0;31m             \u001b[0mself\u001b[0m\u001b[0;34m.\u001b[0m\u001b[0m_engine\u001b[0m \u001b[0;34m=\u001b[0m \u001b[0mCParserWrapper\u001b[0m\u001b[0;34m(\u001b[0m\u001b[0mself\u001b[0m\u001b[0;34m.\u001b[0m\u001b[0mf\u001b[0m\u001b[0;34m,\u001b[0m \u001b[0;34m**\u001b[0m\u001b[0mself\u001b[0m\u001b[0;34m.\u001b[0m\u001b[0moptions\u001b[0m\u001b[0;34m)\u001b[0m\u001b[0;34m\u001b[0m\u001b[0;34m\u001b[0m\u001b[0m\n\u001b[0m\u001b[1;32m   1181\u001b[0m         \u001b[0;32melse\u001b[0m\u001b[0;34m:\u001b[0m\u001b[0;34m\u001b[0m\u001b[0;34m\u001b[0m\u001b[0m\n\u001b[1;32m   1182\u001b[0m             \u001b[0;32mif\u001b[0m \u001b[0mengine\u001b[0m \u001b[0;34m==\u001b[0m \u001b[0;34m\"python\"\u001b[0m\u001b[0;34m:\u001b[0m\u001b[0;34m\u001b[0m\u001b[0;34m\u001b[0m\u001b[0m\n",
            "\u001b[0;32m/usr/local/lib/python3.7/dist-packages/pandas/io/parsers.py\u001b[0m in \u001b[0;36m__init__\u001b[0;34m(self, src, **kwds)\u001b[0m\n\u001b[1;32m   2008\u001b[0m         \u001b[0mkwds\u001b[0m\u001b[0;34m[\u001b[0m\u001b[0;34m\"usecols\"\u001b[0m\u001b[0;34m]\u001b[0m \u001b[0;34m=\u001b[0m \u001b[0mself\u001b[0m\u001b[0;34m.\u001b[0m\u001b[0musecols\u001b[0m\u001b[0;34m\u001b[0m\u001b[0;34m\u001b[0m\u001b[0m\n\u001b[1;32m   2009\u001b[0m \u001b[0;34m\u001b[0m\u001b[0m\n\u001b[0;32m-> 2010\u001b[0;31m         \u001b[0mself\u001b[0m\u001b[0;34m.\u001b[0m\u001b[0m_reader\u001b[0m \u001b[0;34m=\u001b[0m \u001b[0mparsers\u001b[0m\u001b[0;34m.\u001b[0m\u001b[0mTextReader\u001b[0m\u001b[0;34m(\u001b[0m\u001b[0msrc\u001b[0m\u001b[0;34m,\u001b[0m \u001b[0;34m**\u001b[0m\u001b[0mkwds\u001b[0m\u001b[0;34m)\u001b[0m\u001b[0;34m\u001b[0m\u001b[0;34m\u001b[0m\u001b[0m\n\u001b[0m\u001b[1;32m   2011\u001b[0m         \u001b[0mself\u001b[0m\u001b[0;34m.\u001b[0m\u001b[0munnamed_cols\u001b[0m \u001b[0;34m=\u001b[0m \u001b[0mself\u001b[0m\u001b[0;34m.\u001b[0m\u001b[0m_reader\u001b[0m\u001b[0;34m.\u001b[0m\u001b[0munnamed_cols\u001b[0m\u001b[0;34m\u001b[0m\u001b[0;34m\u001b[0m\u001b[0m\n\u001b[1;32m   2012\u001b[0m \u001b[0;34m\u001b[0m\u001b[0m\n",
            "\u001b[0;32mpandas/_libs/parsers.pyx\u001b[0m in \u001b[0;36mpandas._libs.parsers.TextReader.__cinit__\u001b[0;34m()\u001b[0m\n",
            "\u001b[0;32mpandas/_libs/parsers.pyx\u001b[0m in \u001b[0;36mpandas._libs.parsers.TextReader._setup_parser_source\u001b[0;34m()\u001b[0m\n",
            "\u001b[0;31mFileNotFoundError\u001b[0m: [Errno 2] No such file or directory: 'aziende.csv'"
          ]
        }
      ]
    },
    {
      "cell_type": "code",
      "metadata": {
        "id": "mmweKL21gsbe",
        "outputId": "48c4191e-ac6f-4c51-f376-b53088ebeea2"
      },
      "source": [
        "len(info_companies_df), len(info_aiuti_df), len(categorie_aiuti_df)"
      ],
      "execution_count": null,
      "outputs": [
        {
          "data": {
            "text/plain": [
              "(43475, 46995, 3699)"
            ]
          },
          "execution_count": 4,
          "metadata": {},
          "output_type": "execute_result"
        }
      ]
    },
    {
      "cell_type": "code",
      "metadata": {
        "id": "nUN6-Ifcgsbf",
        "outputId": "27904480-1b67-4299-d6d6-eaaf5b92efbb"
      },
      "source": [
        "info_companies_df.head(3)"
      ],
      "execution_count": null,
      "outputs": [
        {
          "data": {
            "text/html": [
              "<div>\n",
              "<style scoped>\n",
              "    .dataframe tbody tr th:only-of-type {\n",
              "        vertical-align: middle;\n",
              "    }\n",
              "\n",
              "    .dataframe tbody tr th {\n",
              "        vertical-align: top;\n",
              "    }\n",
              "\n",
              "    .dataframe thead th {\n",
              "        text-align: right;\n",
              "    }\n",
              "</style>\n",
              "<table border=\"1\" class=\"dataframe\">\n",
              "  <thead>\n",
              "    <tr style=\"text-align: right;\">\n",
              "      <th></th>\n",
              "      <th>ID_AZIENDA</th>\n",
              "      <th>NATURA_GIURIDICA</th>\n",
              "      <th>NATURA_GIURIDICA_CLASSE</th>\n",
              "      <th>SUL_MERCATO_DA</th>\n",
              "      <th>ATECO_CODICE</th>\n",
              "      <th>ATECO_ROOT</th>\n",
              "      <th>ATECO_DESCRIZIONE</th>\n",
              "      <th>STARTUP_INNOVATIVA</th>\n",
              "      <th>CLASSE_NUMERO_DIPENDENTI</th>\n",
              "      <th>CLASSE_RICAVI</th>\n",
              "      <th>CRESCITA_RICAVI</th>\n",
              "      <th>CLASSE_EBITDA</th>\n",
              "      <th>ASSEGNAZIONE_BANDI_PUBBLICI</th>\n",
              "      <th>PRESENZA_SITO_WEB</th>\n",
              "      <th>PRESENZA_SOCIALS</th>\n",
              "      <th>PRESENZA_NUMERI_TELEFONO</th>\n",
              "      <th>PRESENZA_EMAIL</th>\n",
              "    </tr>\n",
              "  </thead>\n",
              "  <tbody>\n",
              "    <tr>\n",
              "      <th>0</th>\n",
              "      <td>8a716fb54f4d</td>\n",
              "      <td>Società In Nome Collettivo</td>\n",
              "      <td>Società Di Persone</td>\n",
              "      <td>1999-12-09</td>\n",
              "      <td>66.21.00</td>\n",
              "      <td>K</td>\n",
              "      <td>Attività dei periti e liquidatori indipendenti...</td>\n",
              "      <td>False</td>\n",
              "      <td>2 - 5</td>\n",
              "      <td>NaN</td>\n",
              "      <td>NaN</td>\n",
              "      <td>NaN</td>\n",
              "      <td>True</td>\n",
              "      <td>True</td>\n",
              "      <td>False</td>\n",
              "      <td>True</td>\n",
              "      <td>True</td>\n",
              "    </tr>\n",
              "    <tr>\n",
              "      <th>1</th>\n",
              "      <td>407a5364ce33</td>\n",
              "      <td>Società A Responsabilità Limitata Semplificata</td>\n",
              "      <td>Società Di Capitale</td>\n",
              "      <td>2014-12-12</td>\n",
              "      <td>45.20.20</td>\n",
              "      <td>G</td>\n",
              "      <td>Riparazione di carrozzerie di autoveicoli</td>\n",
              "      <td>False</td>\n",
              "      <td>2 - 5</td>\n",
              "      <td>100k - 1mln</td>\n",
              "      <td>True</td>\n",
              "      <td>10k - 100k</td>\n",
              "      <td>True</td>\n",
              "      <td>False</td>\n",
              "      <td>False</td>\n",
              "      <td>True</td>\n",
              "      <td>False</td>\n",
              "    </tr>\n",
              "    <tr>\n",
              "      <th>2</th>\n",
              "      <td>e6c4538bd6bc</td>\n",
              "      <td>Impresa Individuale</td>\n",
              "      <td>Impresa Individuale</td>\n",
              "      <td>1996-10-29</td>\n",
              "      <td>01.2</td>\n",
              "      <td>A</td>\n",
              "      <td>COLTIVAZIONE DI COLTURE PERMANENTI</td>\n",
              "      <td>False</td>\n",
              "      <td>2 - 5</td>\n",
              "      <td>NaN</td>\n",
              "      <td>NaN</td>\n",
              "      <td>NaN</td>\n",
              "      <td>False</td>\n",
              "      <td>False</td>\n",
              "      <td>False</td>\n",
              "      <td>False</td>\n",
              "      <td>False</td>\n",
              "    </tr>\n",
              "  </tbody>\n",
              "</table>\n",
              "</div>"
            ],
            "text/plain": [
              "     ID_AZIENDA                                NATURA_GIURIDICA  \\\n",
              "0  8a716fb54f4d                      Società In Nome Collettivo   \n",
              "1  407a5364ce33  Società A Responsabilità Limitata Semplificata   \n",
              "2  e6c4538bd6bc                             Impresa Individuale   \n",
              "\n",
              "  NATURA_GIURIDICA_CLASSE SUL_MERCATO_DA ATECO_CODICE ATECO_ROOT  \\\n",
              "0      Società Di Persone     1999-12-09     66.21.00          K   \n",
              "1     Società Di Capitale     2014-12-12     45.20.20          G   \n",
              "2     Impresa Individuale     1996-10-29         01.2          A   \n",
              "\n",
              "                                   ATECO_DESCRIZIONE  STARTUP_INNOVATIVA  \\\n",
              "0  Attività dei periti e liquidatori indipendenti...               False   \n",
              "1          Riparazione di carrozzerie di autoveicoli               False   \n",
              "2                 COLTIVAZIONE DI COLTURE PERMANENTI               False   \n",
              "\n",
              "  CLASSE_NUMERO_DIPENDENTI CLASSE_RICAVI CRESCITA_RICAVI CLASSE_EBITDA  \\\n",
              "0                    2 - 5           NaN             NaN           NaN   \n",
              "1                    2 - 5   100k - 1mln            True    10k - 100k   \n",
              "2                    2 - 5           NaN             NaN           NaN   \n",
              "\n",
              "   ASSEGNAZIONE_BANDI_PUBBLICI  PRESENZA_SITO_WEB  PRESENZA_SOCIALS  \\\n",
              "0                         True               True             False   \n",
              "1                         True              False             False   \n",
              "2                        False              False             False   \n",
              "\n",
              "   PRESENZA_NUMERI_TELEFONO  PRESENZA_EMAIL  \n",
              "0                      True            True  \n",
              "1                      True           False  \n",
              "2                     False           False  "
            ]
          },
          "execution_count": 5,
          "metadata": {},
          "output_type": "execute_result"
        }
      ]
    },
    {
      "cell_type": "markdown",
      "metadata": {
        "id": "yxi1X1GUgsbi"
      },
      "source": [
        "Alcune colonne da commentare:\n",
        "   - `STARTUP_INNOVATIVA`: indica se si tratta di startup innovative iscritte nel registro omonimo\n",
        "   - `ASSEGNAZIONE_BANDI_PUBBLICI`: indica se l'azienda ha avuto contratti con la PA"
      ]
    },
    {
      "cell_type": "code",
      "metadata": {
        "id": "n4R9CzsBgsbi",
        "outputId": "a0e27e8b-b208-435b-dde7-8494edfa2162"
      },
      "source": [
        "info_aiuti_df.head(3)"
      ],
      "execution_count": null,
      "outputs": [
        {
          "data": {
            "text/html": [
              "<div>\n",
              "<style scoped>\n",
              "    .dataframe tbody tr th:only-of-type {\n",
              "        vertical-align: middle;\n",
              "    }\n",
              "\n",
              "    .dataframe tbody tr th {\n",
              "        vertical-align: top;\n",
              "    }\n",
              "\n",
              "    .dataframe thead th {\n",
              "        text-align: right;\n",
              "    }\n",
              "</style>\n",
              "<table border=\"1\" class=\"dataframe\">\n",
              "  <thead>\n",
              "    <tr style=\"text-align: right;\">\n",
              "      <th></th>\n",
              "      <th>ID_AIUTO</th>\n",
              "      <th>ID_AZIENDA</th>\n",
              "      <th>SOGGETTO_CONCEDENTE</th>\n",
              "      <th>AMMONTARE</th>\n",
              "      <th>LEGGE</th>\n",
              "      <th>TITOLO</th>\n",
              "      <th>DESCRIZIONE</th>\n",
              "      <th>DATA</th>\n",
              "      <th>TIPOLOGIA</th>\n",
              "    </tr>\n",
              "  </thead>\n",
              "  <tbody>\n",
              "    <tr>\n",
              "      <th>0</th>\n",
              "      <td>9a957055326f</td>\n",
              "      <td>b59fdaade2f9</td>\n",
              "      <td>Provincia Autonoma di Bolzano - Ripartizione E...</td>\n",
              "      <td>5000.00</td>\n",
              "      <td>Interventi della Provincia autonoma di Bolzano...</td>\n",
              "      <td>Procedimento COVID19-Commercio</td>\n",
              "      <td>IMPRESA ESISTENTE</td>\n",
              "      <td>2020-06-17</td>\n",
              "      <td>Sovvenzione/Contributo in conto interessi</td>\n",
              "    </tr>\n",
              "    <tr>\n",
              "      <th>1</th>\n",
              "      <td>bf38b0dff19b</td>\n",
              "      <td>ae6cee373c6b</td>\n",
              "      <td>INPS</td>\n",
              "      <td>2711.04</td>\n",
              "      <td>Decreto direttoriale che istituisce l'incentiv...</td>\n",
              "      <td>Incentivo NEET</td>\n",
              "      <td>Incentivo per le assunzioni a tempo indetermin...</td>\n",
              "      <td>2018-08-02</td>\n",
              "      <td>beneficio di natura contributiva (Categoria: S...</td>\n",
              "    </tr>\n",
              "    <tr>\n",
              "      <th>2</th>\n",
              "      <td>1252612682ca</td>\n",
              "      <td>642aada5554f</td>\n",
              "      <td>Provincia Autonoma di Bolzano - Ripartizione E...</td>\n",
              "      <td>2000.00</td>\n",
              "      <td>Interventi della Provincia autonoma di Bolzano...</td>\n",
              "      <td>mobilità elettrica</td>\n",
              "      <td>acquisto beni mobili</td>\n",
              "      <td>2018-12-05</td>\n",
              "      <td>Sovvenzione/Contributo in conto interessi</td>\n",
              "    </tr>\n",
              "  </tbody>\n",
              "</table>\n",
              "</div>"
            ],
            "text/plain": [
              "       ID_AIUTO    ID_AZIENDA  \\\n",
              "0  9a957055326f  b59fdaade2f9   \n",
              "1  bf38b0dff19b  ae6cee373c6b   \n",
              "2  1252612682ca  642aada5554f   \n",
              "\n",
              "                                 SOGGETTO_CONCEDENTE  AMMONTARE  \\\n",
              "0  Provincia Autonoma di Bolzano - Ripartizione E...    5000.00   \n",
              "1                                               INPS    2711.04   \n",
              "2  Provincia Autonoma di Bolzano - Ripartizione E...    2000.00   \n",
              "\n",
              "                                               LEGGE  \\\n",
              "0  Interventi della Provincia autonoma di Bolzano...   \n",
              "1  Decreto direttoriale che istituisce l'incentiv...   \n",
              "2  Interventi della Provincia autonoma di Bolzano...   \n",
              "\n",
              "                           TITOLO  \\\n",
              "0  Procedimento COVID19-Commercio   \n",
              "1                  Incentivo NEET   \n",
              "2              mobilità elettrica   \n",
              "\n",
              "                                         DESCRIZIONE        DATA  \\\n",
              "0                                  IMPRESA ESISTENTE  2020-06-17   \n",
              "1  Incentivo per le assunzioni a tempo indetermin...  2018-08-02   \n",
              "2                               acquisto beni mobili  2018-12-05   \n",
              "\n",
              "                                           TIPOLOGIA  \n",
              "0          Sovvenzione/Contributo in conto interessi  \n",
              "1  beneficio di natura contributiva (Categoria: S...  \n",
              "2          Sovvenzione/Contributo in conto interessi  "
            ]
          },
          "execution_count": 6,
          "metadata": {},
          "output_type": "execute_result"
        }
      ]
    },
    {
      "cell_type": "markdown",
      "metadata": {
        "id": "13y5mxlGgsbk"
      },
      "source": [
        "Alcune colonne da commentare:\n",
        "   - `LEGGE`: dispositivo normativo che ha definito le misure di aiuto/finanziamento"
      ]
    },
    {
      "cell_type": "code",
      "metadata": {
        "colab": {
          "base_uri": "https://localhost:8080/",
          "height": 172
        },
        "id": "FVkA8RZ6gsbl",
        "outputId": "e5f51d47-9a6e-42c2-c9ed-98182085d1f9"
      },
      "source": [
        "categorie_aiuti_df.head(5)"
      ],
      "execution_count": 1,
      "outputs": [
        {
          "output_type": "error",
          "ename": "NameError",
          "evalue": "ignored",
          "traceback": [
            "\u001b[0;31m---------------------------------------------------------------------------\u001b[0m",
            "\u001b[0;31mNameError\u001b[0m                                 Traceback (most recent call last)",
            "\u001b[0;32m<ipython-input-1-1598cdec5d1e>\u001b[0m in \u001b[0;36m<module>\u001b[0;34m()\u001b[0m\n\u001b[0;32m----> 1\u001b[0;31m \u001b[0mcategorie_aiuti_df\u001b[0m\u001b[0;34m.\u001b[0m\u001b[0mhead\u001b[0m\u001b[0;34m(\u001b[0m\u001b[0;36m5\u001b[0m\u001b[0;34m)\u001b[0m\u001b[0;34m\u001b[0m\u001b[0;34m\u001b[0m\u001b[0m\n\u001b[0m",
            "\u001b[0;31mNameError\u001b[0m: name 'categorie_aiuti_df' is not defined"
          ]
        }
      ]
    },
    {
      "cell_type": "markdown",
      "metadata": {
        "id": "8DKV8qTmgsbm"
      },
      "source": [
        "Alcune colonne da commentare:\n",
        "   - `TEMA`: descrive l'obiettivo ad alto livello"
      ]
    },
    {
      "cell_type": "markdown",
      "metadata": {
        "id": "0GYR4GRTgsbn"
      },
      "source": [
        "### TASK"
      ]
    },
    {
      "cell_type": "markdown",
      "metadata": {
        "id": "CFrRqKudgsbo"
      },
      "source": [
        "- (Q1) Potresti descriverci (statistiche rilevanti, peculiarità etc.) i dataset introdotti?\n",
        "- (Q2) In che regione sono state prese quelle aziende?\n",
        "- (Q3) Che fisionomia hanno le imprese che hanno ricevuto finanziamenti pubblici?\n",
        "- (Q4) Riesci ad estendere la classificazione dei finanziamenti all'intero dataset?\n",
        "- (Q5) Alcune aziende hanno ricevuto aiuti per bilanciare i danni e favorire la ripresa post-lockdown: sapresti dire quali?\n",
        "- (Q6) Tra i finanziamenti sono stati rimossi quelli legati al tema Covid ricevuti dopo il 2020-07-10. Sapresti dire quali aziende coinvolgevano?"
      ]
    },
    {
      "cell_type": "markdown",
      "metadata": {
        "id": "w0WSycBfgsbp"
      },
      "source": [
        "**Note**\n",
        "\n",
        "Non chiediamo estremo dettaglio sulle analisi né implementazioni complete ed esaustive. Per risparmiare del tempo può bastare anche solamente descrivere (parte del)la soluzione che si intenderebbe implementare.\n",
        "\n",
        "Se tuttavia si arriva ad elaborare un prototipi per Q6 chiederemmo, per permetterci una valutazione, di produrre un file con `ID_AZIENDA`, `CON_AIUTI_COVID` (che include tutti i soggetti in input) ove `CON_AIUTI_COVID` è posta a True qualora l'azienda abbia ricevuto o si presume riceverà aiuti in merito."
      ]
    }
  ]
}